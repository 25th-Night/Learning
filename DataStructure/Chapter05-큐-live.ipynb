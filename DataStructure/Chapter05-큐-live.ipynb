{
 "cells": [
  {
   "cell_type": "markdown",
   "metadata": {},
   "source": [
    "## **<span style=\"color: red\">학습 시 숙지사항!!!</span>**\n",
    "> 1. <u>**<span style=\"color: #20B2AA\">큐(Queue)</span>**의 구조, 정책</u>에 대해 잘 숙지할 것\n",
    "> 2. <u>관련 용어</u> 숙지\n",
    "> 3. **대표적인 자료구조 혹은 알고리즘에 대해서는** 관련 라이브러리/함수를 사용하지 않고,  \n",
    "    <u>이를 함수나 조건문, 반복문, 리스트, 데이터타입 등을 이용해서 직접 구현해볼 것.</u>\n",
    "    - 큐와 같은 대표적인 자료구조 혹은 알고리즘에 대해서는 대부분의 프로그래밍 언어에서 관련 라이브러리나 함수를 제공.\n",
    "    - 그러나 관련 라이브러리 혹은 함수를 사용하지 않고, 큐의 정책 혹은 특별한 자료구조의 정책을 이해하기 위해서 직접 구현해볼 것."
   ]
  },
  {
   "cell_type": "markdown",
   "metadata": {},
   "source": [
    "## 대표적인 데이터 구조4: **<span style=\"color: #20B2AA\">큐 (Queue)</span>**"
   ]
  },
  {
   "cell_type": "markdown",
   "metadata": {},
   "source": [
    "### 1. **큐 구조**\n",
    "* 줄을 서는 행위와 유사\n",
    "* **<span style=\"color: #0000FF\">가장 먼저 넣은 데이터를 가장 먼저 꺼낼 수 있는 구조</span>**\n",
    "  - 음식점에서 가장 먼저 줄을 선 사람이 제일 먼저 음식점에 입장하는 것과 동일\n",
    "  - <span style=\"color: #BA55D3\">FIFO(First-In, First-Out) 또는 LILO(Last-In, Last-Out) 방식</span>으로 스택과 꺼내는 순서가 반대\n",
    "\n",
    "<img src=\"https://www.fun-coding.org/00_Images/queue.png\" />\n",
    "\n",
    "* 출처: [바로가기](https://www.stoimen.com/blog/2012/06/05/computer-algorithms-stack-and-queue-data-structure/)  \n",
    "> 엑셀로 이해해보기\n",
    "> - 순차적으로 들어가며, 추출할 때는 넣은 순서대로 꺼낸 후 잔여 데이터들을 앞으로 순서를 옮김\n",
    ">> |Input →|5th|4th|3rd|2nd|1st| → Output|\n",
    "|---|---|---|---|---|---|---|\n"
   ]
  },
  {
   "cell_type": "markdown",
   "metadata": {},
   "source": [
    "### 2. 알아둘 **용어**\n",
    "* **Enqueue** : 큐에 데이터를 넣는 기능\n",
    "* **Dequeue** : 큐에서 데이터를 꺼내는 기능\n",
    "* <font color='#BF360C'>Visualgo 사이트에서 시연해보며 이해하기 (enqueue/dequeue 만 클릭해보며): https://visualgo.net/en/list"
   ]
  },
  {
   "cell_type": "markdown",
   "metadata": {},
   "source": [
    "### 3. 파이썬 **queue 라이브러리** 활용해서 큐 자료 구조 사용하기\n",
    "* **queue 라이브러리에는 다양한 큐 구조로 Queue(), LifoQueue(), PriorityQueue() 제공**\n",
    "* <font color='#BF360C'>프로그램을 작성할 때 프로그램에 따라 적합한 자료 구조를 사용</font>\n",
    "  - <span style=\"color: #20B2AA\">Queue()</span> : 가장 <u>일반적인 큐</u> 자료 구조\n",
    "  - <span style=\"color: #20B2AA\">LifoQueue()</span> : 나중에 입력된 데이터가 먼저 출력되는 구조 (<u>스택 구조</u>라고 보면 됨)\n",
    "  - <span style=\"color: #20B2AA\">PriorityQueue()</span> : <u>데이터마다 우선순위를 넣어서, 우선순위가 높은 순</u>으로 데이터 출력\n",
    "  \n",
    "> 일반적인 큐 외에 다양한 정책이 적용된 큐들이 있음"
   ]
  },
  {
   "cell_type": "markdown",
   "metadata": {},
   "source": [
    "#### 3.1. **<span style=\"color: #0000FF\">Queue()</span>**로 큐 만들기 (가장 일반적인 큐, FIFO(First-In, First-Out))\n",
    "> `queue.Queue()`\n",
    "> - **queue** : 라이브러리\n",
    "> - **Queue()** : Class\n",
    ">> - **put** : Enqueue(큐에 데이터를 삽입) 기능의 함수\n",
    ">> - **get** : Dequeue(큐에서 데이터를 추출) 기능의 함수\n",
    ">> - **qsize** : Queue의 size 측정 함수"
   ]
  },
  {
   "cell_type": "code",
   "execution_count": 4,
   "metadata": {
    "ExecuteTime": {
     "end_time": "2022-06-18T15:00:45.599636Z",
     "start_time": "2022-06-18T15:00:45.586196Z"
    }
   },
   "outputs": [],
   "source": [
    "import queue\n",
    "\n",
    "data_queue = queue.Queue()"
   ]
  },
  {
   "cell_type": "code",
   "execution_count": 5,
   "metadata": {
    "ExecuteTime": {
     "end_time": "2022-06-18T15:00:45.864823Z",
     "start_time": "2022-06-18T15:00:45.856781Z"
    }
   },
   "outputs": [],
   "source": [
    "data_queue.put(\"funcoding\")\n",
    "data_queue.put(1)"
   ]
  },
  {
   "cell_type": "code",
   "execution_count": 6,
   "metadata": {
    "ExecuteTime": {
     "end_time": "2022-06-18T15:00:46.183275Z",
     "start_time": "2022-06-18T15:00:46.161131Z"
    }
   },
   "outputs": [
    {
     "data": {
      "text/plain": [
       "2"
      ]
     },
     "execution_count": 6,
     "metadata": {},
     "output_type": "execute_result"
    }
   ],
   "source": [
    "data_queue.qsize()"
   ]
  },
  {
   "cell_type": "code",
   "execution_count": 7,
   "metadata": {
    "ExecuteTime": {
     "end_time": "2022-06-18T15:00:46.590962Z",
     "start_time": "2022-06-18T15:00:46.565483Z"
    }
   },
   "outputs": [
    {
     "data": {
      "text/plain": [
       "'funcoding'"
      ]
     },
     "execution_count": 7,
     "metadata": {},
     "output_type": "execute_result"
    }
   ],
   "source": [
    "data_queue.get()"
   ]
  },
  {
   "cell_type": "code",
   "execution_count": 8,
   "metadata": {
    "ExecuteTime": {
     "end_time": "2022-06-18T15:00:46.964572Z",
     "start_time": "2022-06-18T15:00:46.950591Z"
    }
   },
   "outputs": [
    {
     "data": {
      "text/plain": [
       "1"
      ]
     },
     "execution_count": 8,
     "metadata": {},
     "output_type": "execute_result"
    }
   ],
   "source": [
    "data_queue.qsize()"
   ]
  },
  {
   "cell_type": "code",
   "execution_count": 9,
   "metadata": {
    "ExecuteTime": {
     "end_time": "2022-06-18T15:00:48.933847Z",
     "start_time": "2022-06-18T15:00:48.925860Z"
    }
   },
   "outputs": [
    {
     "data": {
      "text/plain": [
       "1"
      ]
     },
     "execution_count": 9,
     "metadata": {},
     "output_type": "execute_result"
    }
   ],
   "source": [
    "data_queue.get()"
   ]
  },
  {
   "cell_type": "markdown",
   "metadata": {},
   "source": [
    "#### 3.2. **<span style=\"color: #0000FF\">LifoQueue()</span>**로 큐 만들기 (LIFO(Last-In, First-Out))"
   ]
  },
  {
   "cell_type": "code",
   "execution_count": 10,
   "metadata": {
    "ExecuteTime": {
     "end_time": "2022-06-18T15:03:59.292514Z",
     "start_time": "2022-06-18T15:03:59.282475Z"
    }
   },
   "outputs": [],
   "source": [
    "import queue\n",
    "data_queue = queue.LifoQueue()"
   ]
  },
  {
   "cell_type": "code",
   "execution_count": 11,
   "metadata": {
    "ExecuteTime": {
     "end_time": "2022-06-18T15:04:01.860334Z",
     "start_time": "2022-06-18T15:04:01.850232Z"
    }
   },
   "outputs": [],
   "source": [
    "data_queue.put(\"funcoding\")\n",
    "data_queue.put(1)"
   ]
  },
  {
   "cell_type": "code",
   "execution_count": 12,
   "metadata": {
    "ExecuteTime": {
     "end_time": "2022-06-18T15:04:02.946663Z",
     "start_time": "2022-06-18T15:04:02.934643Z"
    }
   },
   "outputs": [
    {
     "data": {
      "text/plain": [
       "2"
      ]
     },
     "execution_count": 12,
     "metadata": {},
     "output_type": "execute_result"
    }
   ],
   "source": [
    "data_queue.qsize()"
   ]
  },
  {
   "cell_type": "code",
   "execution_count": 13,
   "metadata": {
    "ExecuteTime": {
     "end_time": "2022-06-18T15:04:03.758761Z",
     "start_time": "2022-06-18T15:04:03.743779Z"
    }
   },
   "outputs": [
    {
     "data": {
      "text/plain": [
       "1"
      ]
     },
     "execution_count": 13,
     "metadata": {},
     "output_type": "execute_result"
    }
   ],
   "source": [
    "data_queue.get()"
   ]
  },
  {
   "cell_type": "markdown",
   "metadata": {},
   "source": [
    "#### 3.3. **<span style=\"color: #0000FF\">PriorityQueue()</span>**로 큐 만들기\n",
    "- <u>데이터 삽입 시</u>, **우선순위 및 데이터를 <span style=\"color: #BA55D3\">Tuple 형태(순서쌍)</span>로 지정**하여 넣어줘야 함.  \n",
    "    → `put((priority, data))`\n",
    "- 주의사항 : **<span style=\"color: red\">우선순위가 높을수록 숫자값은 낮다.</span>**\n",
    "    - 우선순위 : 5 > 10 > 15"
   ]
  },
  {
   "cell_type": "code",
   "execution_count": 14,
   "metadata": {
    "ExecuteTime": {
     "end_time": "2022-06-18T15:07:51.582012Z",
     "start_time": "2022-06-18T15:07:51.565753Z"
    }
   },
   "outputs": [],
   "source": [
    "import queue\n",
    "\n",
    "data_queue = queue.PriorityQueue()"
   ]
  },
  {
   "cell_type": "code",
   "execution_count": 15,
   "metadata": {
    "ExecuteTime": {
     "end_time": "2022-06-18T15:07:51.923411Z",
     "start_time": "2022-06-18T15:07:51.915559Z"
    }
   },
   "outputs": [],
   "source": [
    "data_queue.put((10, \"korea\"))\n",
    "data_queue.put((5, 1))\n",
    "data_queue.put((15, \"china\"))"
   ]
  },
  {
   "cell_type": "code",
   "execution_count": 16,
   "metadata": {
    "ExecuteTime": {
     "end_time": "2022-06-18T15:07:52.339990Z",
     "start_time": "2022-06-18T15:07:52.320364Z"
    }
   },
   "outputs": [
    {
     "data": {
      "text/plain": [
       "3"
      ]
     },
     "execution_count": 16,
     "metadata": {},
     "output_type": "execute_result"
    }
   ],
   "source": [
    "data_queue.qsize()"
   ]
  },
  {
   "cell_type": "code",
   "execution_count": 17,
   "metadata": {
    "ExecuteTime": {
     "end_time": "2022-06-18T15:07:53.312858Z",
     "start_time": "2022-06-18T15:07:53.299548Z"
    }
   },
   "outputs": [
    {
     "data": {
      "text/plain": [
       "(5, 1)"
      ]
     },
     "execution_count": 17,
     "metadata": {},
     "output_type": "execute_result"
    }
   ],
   "source": [
    "data_queue.get()"
   ]
  },
  {
   "cell_type": "code",
   "execution_count": 18,
   "metadata": {
    "ExecuteTime": {
     "end_time": "2022-06-18T15:07:54.928695Z",
     "start_time": "2022-06-18T15:07:54.911493Z"
    }
   },
   "outputs": [
    {
     "data": {
      "text/plain": [
       "(10, 'korea')"
      ]
     },
     "execution_count": 18,
     "metadata": {},
     "output_type": "execute_result"
    }
   ],
   "source": [
    "data_queue.get()"
   ]
  },
  {
   "cell_type": "markdown",
   "metadata": {},
   "source": [
    "### 참고: **어디에 큐가 많이 쓰일까?**\n",
    "- **운영체제에서 <span style=\"color: red\">멀티 태스킹을 위한 프로세스 스케쥴링 방식을 구현</span>**하기 위해 많이 사용됨 (운영체제 참조)\n",
    "\n",
    "> - 큐의 경우에는 장단점 보다는 (특별히 언급되는 장단점이 없음), <u>큐의 활용 예로 프로세스 스케쥴링 방식을 함께 이해해두는 것이 좋음</u>"
   ]
  },
  {
   "cell_type": "markdown",
   "metadata": {},
   "source": [
    "### 4. **프로그래밍** 연습 "
   ]
  },
  {
   "cell_type": "markdown",
   "metadata": {},
   "source": [
    "<div class=\"alert alert-block alert-warning\">\n",
    "<strong><font color=\"blue\" size=\"3em\">연습1: 리스트 변수로 큐를 다루는 enqueue, dequeue 기능 구현해보기</font></strong>\n",
    "</div>"
   ]
  },
  {
   "cell_type": "code",
   "execution_count": 19,
   "metadata": {
    "ExecuteTime": {
     "end_time": "2022-06-18T15:14:37.780294Z",
     "start_time": "2022-06-18T15:14:37.766676Z"
    }
   },
   "outputs": [],
   "source": [
    "queue_list = list()\n",
    "\n",
    "def enqueue(data):\n",
    "    queue_list.append(data)\n",
    "    \n",
    "def dequeue():\n",
    "    data = queue_list[0]\n",
    "    del queue_list[0]         # FIFO(First-In, First-Out)\n",
    "    return data"
   ]
  },
  {
   "cell_type": "code",
   "execution_count": 20,
   "metadata": {
    "ExecuteTime": {
     "end_time": "2022-06-18T15:14:38.346585Z",
     "start_time": "2022-06-18T15:14:38.318437Z"
    }
   },
   "outputs": [],
   "source": [
    "for index in range(10):\n",
    "    enqueue(index)\n"
   ]
  },
  {
   "cell_type": "code",
   "execution_count": 21,
   "metadata": {
    "ExecuteTime": {
     "end_time": "2022-06-18T15:14:52.044315Z",
     "start_time": "2022-06-18T15:14:52.028833Z"
    }
   },
   "outputs": [
    {
     "data": {
      "text/plain": [
       "[0, 1, 2, 3, 4, 5, 6, 7, 8, 9]"
      ]
     },
     "execution_count": 21,
     "metadata": {},
     "output_type": "execute_result"
    }
   ],
   "source": [
    "queue_list"
   ]
  },
  {
   "cell_type": "code",
   "execution_count": 22,
   "metadata": {
    "ExecuteTime": {
     "end_time": "2022-06-18T15:14:56.419759Z",
     "start_time": "2022-06-18T15:14:56.395444Z"
    }
   },
   "outputs": [
    {
     "data": {
      "text/plain": [
       "10"
      ]
     },
     "execution_count": 22,
     "metadata": {},
     "output_type": "execute_result"
    }
   ],
   "source": [
    "len(queue_list)"
   ]
  },
  {
   "cell_type": "code",
   "execution_count": 25,
   "metadata": {
    "ExecuteTime": {
     "end_time": "2022-06-18T15:15:08.305590Z",
     "start_time": "2022-06-18T15:15:08.289775Z"
    }
   },
   "outputs": [
    {
     "data": {
      "text/plain": [
       "2"
      ]
     },
     "execution_count": 25,
     "metadata": {},
     "output_type": "execute_result"
    }
   ],
   "source": [
    "dequeue()"
   ]
  },
  {
   "cell_type": "markdown",
   "metadata": {},
   "source": [
    "### 쉬어가기: https://youtu.be/u6RoU-SDpYE"
   ]
  }
 ],
 "metadata": {
  "hide_input": false,
  "kernelspec": {
   "display_name": "Python 3 (ipykernel)",
   "language": "python",
   "name": "python3"
  },
  "language_info": {
   "codemirror_mode": {
    "name": "ipython",
    "version": 3
   },
   "file_extension": ".py",
   "mimetype": "text/x-python",
   "name": "python",
   "nbconvert_exporter": "python",
   "pygments_lexer": "ipython3",
   "version": "3.8.13"
  },
  "nbTranslate": {
   "displayLangs": [
    "*"
   ],
   "hotkey": "alt-t",
   "langInMainMenu": true,
   "sourceLang": "en",
   "targetLang": "fr",
   "useGoogleTranslate": true
  },
  "toc": {
   "base_numbering": 1,
   "nav_menu": {},
   "number_sections": true,
   "sideBar": true,
   "skip_h1_title": false,
   "title_cell": "Table of Contents",
   "title_sidebar": "Contents",
   "toc_cell": false,
   "toc_position": {
    "height": "calc(100% - 180px)",
    "left": "10px",
    "top": "150px",
    "width": "304.475px"
   },
   "toc_section_display": true,
   "toc_window_display": true
  }
 },
 "nbformat": 4,
 "nbformat_minor": 1
}
