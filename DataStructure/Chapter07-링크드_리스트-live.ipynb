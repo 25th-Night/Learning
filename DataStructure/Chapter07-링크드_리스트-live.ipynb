{
 "cells": [
  {
   "cell_type": "markdown",
   "metadata": {},
   "source": [
    "## 대표적인 데이터 구조: **<span style=\"color: #20B2AA\">링크드 리스트 (Linked List)</span>**"
   ]
  },
  {
   "cell_type": "markdown",
   "metadata": {},
   "source": [
    "### 1. 링크드 리스트 (Linked List) **<span style=\"color: #0000FF\">구조</span>**\n",
    "* <u>연결 리스트</u>라고도 함\n",
    "* **배열**은 <span style=\"color: #e09a19\">순차적으로 연결된 공간에 데이터를 나열하는 데이터 구조</span>\n",
    "* **링크드 리스트**는 <span style=\"color: #0000FF\">떨어진 곳에 존재하는 데이터를 화살표로 연결해서 관리하는 데이터 구조</span>  \n",
    "    → 배열의 단점을 극복한 자료 구조\n",
    "* <font color='#BF360C'>본래 C언어에서는 주요한 데이터 구조이지만, **파이썬은 리스트 타입이 링크드 리스트의 기능을 모두 지원**</font>"
   ]
  },
  {
   "cell_type": "markdown",
   "metadata": {},
   "source": [
    "* **링크드 리스트** <u>기본 구조와 용어</u>\n",
    "> - **노드(Node)** : 데이터 저장 단위 (데이터값, 포인터) 로 구성\n",
    "> - **포인터(pointer)** : 각 노드 안에서, 다음이나 이전의 노드와의 연결 정보를 가지고 있는 공간\n",
    "\n",
    "<br>\n",
    "* 일반적인 링크드 리스트 형태\n",
    "<img src=\"https://www.fun-coding.org/00_Images/linkedlist.png\" />\n",
    "(출처: wikipedia, https://en.wikipedia.org/wiki/Linked_list)"
   ]
  },
  {
   "cell_type": "markdown",
   "metadata": {},
   "source": [
    "### 2. 간단한 링크드 리스트 **<span style=\"color: #0000FF\">예</span>**"
   ]
  },
  {
   "cell_type": "markdown",
   "metadata": {},
   "source": [
    "#### **Node 구현**\n",
    "- <u>보통 파이썬에서 <span style=\"color: #20B2AA\">링크드 리스트 구현시, 파이썬 클래스를 활용함</span></u>\n",
    "  - <span style=\"color: red\">파이썬 객체지향 문법 이해 필요</span>\n",
    "  - 참고: https://www.fun-coding.org/PL&OOP1-3.html"
   ]
  },
  {
   "cell_type": "code",
   "execution_count": 1,
   "metadata": {},
   "outputs": [],
   "source": [
    "class Node:\n",
    "    def __init__(self, data):\n",
    "        self.data = data\n",
    "        self.next = None"
   ]
  },
  {
   "cell_type": "code",
   "execution_count": 3,
   "metadata": {},
   "outputs": [],
   "source": [
    "# class의 method에서는 항상 self가 붙지만, 그 인자는 사용하지 않음.\n",
    "# 실제 인자는 data 하나인데, 다음 노드를 가리킬 주소까지 인자로 넣어주려면 next라는 인자를 하나 더 넣어주면 됨.\n",
    "# 만약 next라는 인자를 사용하지 않으면, 다음 주소는 None으로 생각해서 default값이 None으로 들어감.\n",
    "\n",
    "class Node:\n",
    "    def __init__(self, data, next=None):\n",
    "        self.data = data\n",
    "        self.next = next"
   ]
  },
  {
   "cell_type": "markdown",
   "metadata": {},
   "source": [
    "#### **Node와 Node 연결**하기 (포인터 활용)"
   ]
  },
  {
   "cell_type": "code",
   "execution_count": 4,
   "metadata": {},
   "outputs": [],
   "source": [
    "node1 = Node(1)\n",
    "node2 = Node(2)\n",
    "node1.next = node2\n",
    "head = node1"
   ]
  },
  {
   "cell_type": "markdown",
   "metadata": {},
   "source": [
    "#### 링크드 리스트로 **데이터 추가**하기"
   ]
  },
  {
   "cell_type": "code",
   "execution_count": 1,
   "metadata": {
    "ExecuteTime": {
     "end_time": "2022-06-19T06:08:08.717214Z",
     "start_time": "2022-06-19T06:08:08.681826Z"
    }
   },
   "outputs": [],
   "source": [
    "class Node:\n",
    "    def __init__(self, data, next=None):\n",
    "        self.data = data\n",
    "        self.next = next\n",
    "\n",
    "def add(data):\n",
    "    node = head                 # head라는 변수에 맨 앞의 변수를 저장\n",
    "    while node.next:            # 데이터를 가져오면 맨 끝의 노드에 저장되어야 함.\n",
    "        node = node.next         # while문 : node에 next가 있으면 node를 node의 next로 다시 저장 -> 마지막 노드에 다다르면 while문 종료\n",
    "    node.next = Node(data)       # 마지막 노드에다가 새로운 Node 객체를 지금 인자로 받는 data로 생성."
   ]
  },
  {
   "cell_type": "code",
   "execution_count": 2,
   "metadata": {
    "ExecuteTime": {
     "end_time": "2022-06-19T06:11:08.166741Z",
     "start_time": "2022-06-19T06:11:08.138358Z"
    }
   },
   "outputs": [],
   "source": [
    "node1 = Node(1)\n",
    "head = node1\n",
    "for index in range(2, 10):\n",
    "    add(index)"
   ]
  },
  {
   "cell_type": "markdown",
   "metadata": {},
   "source": [
    "#### 링크드 리스트 **데이터 출력**하기(검색하기)"
   ]
  },
  {
   "cell_type": "code",
   "execution_count": 10,
   "metadata": {},
   "outputs": [
    {
     "name": "stdout",
     "output_type": "stream",
     "text": [
      "1\n",
      "2\n",
      "3\n",
      "4\n",
      "5\n",
      "6\n",
      "7\n",
      "8\n",
      "9\n"
     ]
    }
   ],
   "source": [
    "node = head\n",
    "while node.next:\n",
    "    print(node.data)\n",
    "    node = node.next\n",
    "print (node.data)"
   ]
  },
  {
   "cell_type": "markdown",
   "metadata": {},
   "source": [
    "### 3. 링크드 리스트의 **<span style=\"color: #0000FF\">장단점</span>** (전통적인 C언어에서의 배열과 링크드 리스트)\n",
    "* **<span style=\"color: red\">장점</span>**\n",
    "  - **<span style=\"color: #FA8072\">데이터 공간을 미리 할당하지 않아도</span> 됨**\n",
    "    - 배열은 **미리 데이터 공간을 할당** 해야 함\n",
    "* **<span style=\"color: #e09a19\">단점</span>**\n",
    "  - <u>연결을 위한 별도 데이터 공간이 필요</u>하므로, **<span style=\"color: #B8860B\">저장공간 효율이 높지 않음</span>**\n",
    "    - <u>연결 정보를 찾는 시간이 필요</u>하므로 **<span style=\"color: #B8860B\">접근 속도가 느림</span>** (맨 앞에서부터 찾아가야 하므로)\n",
    "  - <u>중간 데이터 삭제</u> 시, **<span style=\"color: #B8860B\">앞뒤 데이터의 연결을 재구성해야 하는 부가적인 작업 필요</span>**"
   ]
  },
  {
   "cell_type": "markdown",
   "metadata": {},
   "source": [
    "### 4. 링크드 리스트의 **<span style=\"color: #0000FF\">복잡한 기능1</span>** (링크드 리스트 데이터 사이에 데이터를 추가)\n",
    "- 링크드 리스트는 <u>유지 관리에 부가적인 구현이 필요</u>함\n",
    "\n",
    "<img src=\"https://www.fun-coding.org/00_Images/linkedlistadd.png\" />\n",
    "(출처: wikipedia, https://en.wikipedia.org/wiki/Linked_list)"
   ]
  },
  {
   "cell_type": "code",
   "execution_count": 12,
   "metadata": {
    "ExecuteTime": {
     "end_time": "2022-06-19T07:38:40.583568Z",
     "start_time": "2022-06-19T07:38:40.567764Z"
    }
   },
   "outputs": [
    {
     "name": "stdout",
     "output_type": "stream",
     "text": [
      "1\n",
      "2\n",
      "3\n",
      "4\n",
      "5\n",
      "6\n",
      "7\n",
      "8\n",
      "9\n"
     ]
    }
   ],
   "source": [
    "node = head\n",
    "while node.next:\n",
    "    print(node.data)\n",
    "    node = node.next\n",
    "print (node.data)"
   ]
  },
  {
   "cell_type": "code",
   "execution_count": 13,
   "metadata": {
    "ExecuteTime": {
     "end_time": "2022-06-19T07:38:40.961873Z",
     "start_time": "2022-06-19T07:38:40.948902Z"
    }
   },
   "outputs": [],
   "source": [
    "node3 = Node(1.5)"
   ]
  },
  {
   "cell_type": "code",
   "execution_count": 14,
   "metadata": {
    "ExecuteTime": {
     "end_time": "2022-06-19T07:38:41.409420Z",
     "start_time": "2022-06-19T07:38:41.395289Z"
    }
   },
   "outputs": [],
   "source": [
    "node = head\n",
    "search = True\n",
    "while search:\n",
    "    if node.data == 1:\n",
    "        search = False\n",
    "    else:\n",
    "        node = node.next\n",
    "\n",
    "# node.next : 2를 바라보고 있는 포인터\n",
    "node_next = node.next\n",
    "# 1의 포인터가 1.5를 바라보게 함\n",
    "node.next = node3\n",
    "# 1.5의 포인터가 2를 바라보고 있게 지정\n",
    "node3.next = node_next"
   ]
  },
  {
   "cell_type": "code",
   "execution_count": 15,
   "metadata": {
    "ExecuteTime": {
     "end_time": "2022-06-19T07:38:41.922878Z",
     "start_time": "2022-06-19T07:38:41.904944Z"
    }
   },
   "outputs": [
    {
     "name": "stdout",
     "output_type": "stream",
     "text": [
      "1\n",
      "1.5\n",
      "2\n",
      "3\n",
      "4\n",
      "5\n",
      "6\n",
      "7\n",
      "8\n",
      "9\n"
     ]
    }
   ],
   "source": [
    "node = head\n",
    "while node.next:\n",
    "    print(node.data)\n",
    "    node = node.next\n",
    "print (node.data)"
   ]
  },
  {
   "cell_type": "markdown",
   "metadata": {},
   "source": [
    "### 5. 파이썬 **<span style=\"color: #0000FF\">객체지향 프로그래밍으로 링크드 리스트 구현</span>**하기"
   ]
  },
  {
   "cell_type": "code",
   "execution_count": 16,
   "metadata": {
    "ExecuteTime": {
     "end_time": "2022-06-19T07:38:43.640973Z",
     "start_time": "2022-06-19T07:38:43.603616Z"
    }
   },
   "outputs": [],
   "source": [
    "# 각각의 Node를 저장/생성할 수 있는 class 생성\n",
    "class Node:\n",
    "    def __init__(self, data, next=None):\n",
    "        self.data = data                       # 데이터\n",
    "        self.next = next                       # 주소\n",
    "\n",
    "# Linked List를 관리할 수 있는 class 생성\n",
    "class NodeMgmt:                               # NodeMgmt 객체를 만들 때 \n",
    "    def __init__(self, data):                 # 맨 앞에 있는 노드가 가지는 데이터 값까지 받아서 \n",
    "        self.head = Node(data)                # 맨 앞의 노드를 생성하고, 주소(next) 값을 head 값으로 저장\n",
    "    \n",
    "    # 해당 Linked List의 맨 끝에 Node를 추가\n",
    "    def add(self, data):\n",
    "        if self.head == '':                  # 방어코드의 일환. 만약 head 값이 아예 없다면, \n",
    "            self.head = Node(data)            # 아예 노드가 Linked List에 없다고 생각하고, 추가할 데이터를 가지고 맨 앞의 노드를 만든다.\n",
    "        else:\n",
    "            node = self.head                  # head값이 있다면 node로 지정\n",
    "            while node.next:                  # node의 next가 None이지 않으면 \n",
    "                node = node.next               # 다음 주소(next)를 가지게끔\n",
    "            node.next = Node(data)              # 지금 추가할 데이터를 기반으로한 노드를 새로 생성하여 마지막 노드의 주소에 연결시켜줌.\n",
    "            \n",
    "    # 해당 LInked List의 전체 데이터를 출력할 수 있는 함수    \n",
    "    def desc(self):\n",
    "        node = self.head\n",
    "        while node:\n",
    "            print (node.data)\n",
    "            node = node.next"
   ]
  },
  {
   "cell_type": "code",
   "execution_count": 17,
   "metadata": {
    "ExecuteTime": {
     "end_time": "2022-06-19T07:38:44.149156Z",
     "start_time": "2022-06-19T07:38:44.133151Z"
    }
   },
   "outputs": [
    {
     "name": "stdout",
     "output_type": "stream",
     "text": [
      "0\n"
     ]
    }
   ],
   "source": [
    "# NodeMgmt class를 만들면서 데이터를 0으로 동시에 넣어줌 → 0이라는 데이터를 가진 노드가 객체로 만들어졌을 것임.\n",
    "# 그 노드가 NodeMgmt의 객체의 attribute 값으로 저장되어 있을 것임.\n",
    "# 그 객체가 linkedlist1이라는 변수에 들어갈 것임\n",
    "linkedlist1 = NodeMgmt(0)\n",
    "# 그 객체의 desc 함수를 호출하면 그 안에 있는 head값(0을 가지고 있는 노드의 주소)부터 시작하여 \n",
    "# 함수를 순회하면서 노드에 있는 데이터 값을 출력\n",
    "# 지금은 데이터 값이 하나 만들어졌기 때문에 0만 출력\n",
    "linkedlist1.desc()"
   ]
  },
  {
   "cell_type": "code",
   "execution_count": 18,
   "metadata": {
    "ExecuteTime": {
     "end_time": "2022-06-19T07:38:44.677666Z",
     "start_time": "2022-06-19T07:38:44.653989Z"
    }
   },
   "outputs": [
    {
     "name": "stdout",
     "output_type": "stream",
     "text": [
      "0\n",
      "1\n",
      "2\n",
      "3\n",
      "4\n",
      "5\n",
      "6\n",
      "7\n",
      "8\n",
      "9\n"
     ]
    }
   ],
   "source": [
    "for data in range(1, 10):\n",
    "    linkedlist1.add(data)\n",
    "linkedlist1.desc()"
   ]
  },
  {
   "cell_type": "markdown",
   "metadata": {},
   "source": [
    "### 6. 링크드 리스트의 **<span style=\"color: #0000FF\">복잡한 기능2</span>** (특정 노드를 삭제)\n",
    "* 다음 코드는 위의 코드에서 delete 메서드만 추가한 것이므로 해당 메서드만 확인하면 됨\n",
    "    1. <span style=\"color: #1E90FF\">head</span> 삭제 : head가 그 다음 node로 바뀌어야 함\n",
    "    2. <span style=\"color: #1E90FF\">마지막 노드</span> 삭제 : 마지막 노드 삭제 후, 그 앞 노드의 주소를 None으로 바꿔줘야 함.\n",
    "    3. <span style=\"color: #1E90FF\">중간 노드</span> 삭제 : 그 앞 노드의 주소값을 바로 뒤 노드로 변경해주어야 함."
   ]
  },
  {
   "cell_type": "code",
   "execution_count": 19,
   "metadata": {
    "ExecuteTime": {
     "end_time": "2022-06-19T07:38:45.814604Z",
     "start_time": "2022-06-19T07:38:45.792235Z"
    }
   },
   "outputs": [],
   "source": [
    "# 각각의 Node를 저장/생성할 수 있는 class 생성\n",
    "class Node:\n",
    "    def __init__(self, data, next=None):\n",
    "        self.data = data                       # 데이터\n",
    "        self.next = next                       # 주소\n",
    "\n",
    "# Linked List를 관리할 수 있는 class 생성\n",
    "class NodeMgmt:                               # NodeMgmt 객체를 만들 때 \n",
    "    def __init__(self, data):                 # 맨 앞에 있는 노드가 가지는 데이터 값까지 받아서 \n",
    "        self.head = Node(data)                # 맨 앞의 노드를 생성하고, 주소(next) 값을 head 값으로 저장\n",
    "    \n",
    "    # 해당 Linked List의 맨 끝에 Node를 추가\n",
    "    def add(self, data):\n",
    "        if self.head == '':                  # 방어코드의 일환. 만약 head 값이 아예 없다면, \n",
    "            self.head = Node(data)            # 아예 노드가 Linked List에 없다고 생각하고, 추가할 데이터를 가지고 맨 앞의 노드를 만든다.\n",
    "        else:\n",
    "            node = self.head                  # head값이 있다면 node로 지정\n",
    "            while node.next:                  # node의 next가 None이지 않으면 \n",
    "                node = node.next               # 다음 주소(next)를 가지게끔\n",
    "            node.next = Node(data)              # 지금 추가할 데이터를 기반으로한 노드를 새로 생성하여 마지막 노드의 주소에 연결시켜줌.\n",
    "            \n",
    "    # 해당 LInked List의 전체 데이터를 출력할 수 있는 함수    \n",
    "    def desc(self):\n",
    "        node = self.head\n",
    "        while node:\n",
    "            print (node.data)\n",
    "            node = node.next\n",
    "    \n",
    "    def delete(self, data):\n",
    "        if self.head == '':                     # 방어코드의 일환. 만약 head 값이 아예 없다면, \n",
    "            print (\"해당 값을 가진 노드가 없습니다.\")\n",
    "            return\n",
    "        \n",
    "        if self.head.data == data:              # head를 삭제하는 경우,\n",
    "            temp = self.head                    # self.head를 temp 변수에 저장\n",
    "            self.head = self.head.next          # head의 주소가 가지고 있는 값이 head로 바꿔줌\n",
    "            del temp                            # 맨 앞 노드를 삭제\n",
    "        else:\n",
    "            node = self.head\n",
    "            while node.next:                    # 중간 노드 혹은 마지막 노드를 삭제하는 경우\n",
    "                if node.next.data == data:      # 다음 노드의 데이터가 우리가 입력한 삭제할 데이터라면,\n",
    "                    temp = node.next             # node의 next는 temp 변수에 저장해 놓고\n",
    "                    node.next = node.next.next   # node의 next는 node의 next의 next로 저장 / 마지막 노드인 경우, node.next.next는 None이니 한꺼번에 해결 가능\n",
    "                    del temp                     # node의 next를 삭제\n",
    "                    return\n",
    "                else:                            # 다음 노드의 데이터가 우리가 찾는 데이터가 아니라면,\n",
    "                    node = node.next             # 다음 노드로 이동"
   ]
  },
  {
   "cell_type": "markdown",
   "metadata": {},
   "source": [
    "#### 테스트를 위해 1개 노드를 만들어 봄"
   ]
  },
  {
   "cell_type": "code",
   "execution_count": 20,
   "metadata": {
    "ExecuteTime": {
     "end_time": "2022-06-19T07:38:49.859178Z",
     "start_time": "2022-06-19T07:38:49.845275Z"
    }
   },
   "outputs": [
    {
     "name": "stdout",
     "output_type": "stream",
     "text": [
      "0\n"
     ]
    }
   ],
   "source": [
    "linkedlist1 = NodeMgmt(0)\n",
    "linkedlist1.desc()"
   ]
  },
  {
   "cell_type": "markdown",
   "metadata": {},
   "source": [
    "#### head 가 살아있음을 확인"
   ]
  },
  {
   "cell_type": "code",
   "execution_count": 21,
   "metadata": {
    "ExecuteTime": {
     "end_time": "2022-06-19T07:38:52.532777Z",
     "start_time": "2022-06-19T07:38:52.503160Z"
    }
   },
   "outputs": [
    {
     "data": {
      "text/plain": [
       "<__main__.Node at 0x2900ff85b50>"
      ]
     },
     "execution_count": 21,
     "metadata": {},
     "output_type": "execute_result"
    }
   ],
   "source": [
    "linkedlist1.head"
   ]
  },
  {
   "cell_type": "markdown",
   "metadata": {},
   "source": [
    "#### head 를 지워봄(위에서 언급한 경우의 수1)"
   ]
  },
  {
   "cell_type": "code",
   "execution_count": 22,
   "metadata": {
    "ExecuteTime": {
     "end_time": "2022-06-19T07:39:06.308950Z",
     "start_time": "2022-06-19T07:39:06.298755Z"
    }
   },
   "outputs": [],
   "source": [
    "linkedlist1.delete(0)"
   ]
  },
  {
   "cell_type": "markdown",
   "metadata": {},
   "source": [
    "#### 다음 코드 실행시 아무것도 안나온다는 것은 linkedlist1.head 가 정상적으로 삭제되었음을 의미"
   ]
  },
  {
   "cell_type": "code",
   "execution_count": 23,
   "metadata": {
    "ExecuteTime": {
     "end_time": "2022-06-19T07:39:08.055662Z",
     "start_time": "2022-06-19T07:39:08.029730Z"
    }
   },
   "outputs": [],
   "source": [
    "linkedlist1.head"
   ]
  },
  {
   "cell_type": "markdown",
   "metadata": {},
   "source": [
    "#### 다시 하나의 노드를 만들어봄"
   ]
  },
  {
   "cell_type": "code",
   "execution_count": 24,
   "metadata": {
    "ExecuteTime": {
     "end_time": "2022-06-19T07:39:13.335707Z",
     "start_time": "2022-06-19T07:39:13.319030Z"
    }
   },
   "outputs": [
    {
     "name": "stdout",
     "output_type": "stream",
     "text": [
      "0\n"
     ]
    }
   ],
   "source": [
    "linkedlist1 = NodeMgmt(0)\n",
    "linkedlist1.desc()"
   ]
  },
  {
   "cell_type": "markdown",
   "metadata": {},
   "source": [
    "#### 이번엔 여러 노드를 더 추가해봄"
   ]
  },
  {
   "cell_type": "code",
   "execution_count": 25,
   "metadata": {
    "ExecuteTime": {
     "end_time": "2022-06-19T07:39:15.636604Z",
     "start_time": "2022-06-19T07:39:15.620899Z"
    }
   },
   "outputs": [
    {
     "name": "stdout",
     "output_type": "stream",
     "text": [
      "0\n",
      "1\n",
      "2\n",
      "3\n",
      "4\n",
      "5\n",
      "6\n",
      "7\n",
      "8\n",
      "9\n"
     ]
    }
   ],
   "source": [
    "for data in range(1, 10):\n",
    "    linkedlist1.add(data)\n",
    "linkedlist1.desc()"
   ]
  },
  {
   "cell_type": "markdown",
   "metadata": {},
   "source": [
    "#### 노드 중에 한개를 삭제함 (위에서 언급한 경우의 수2)"
   ]
  },
  {
   "cell_type": "code",
   "execution_count": 26,
   "metadata": {
    "ExecuteTime": {
     "end_time": "2022-06-19T07:39:17.513898Z",
     "start_time": "2022-06-19T07:39:17.497798Z"
    }
   },
   "outputs": [],
   "source": [
    "linkedlist1.delete(4)"
   ]
  },
  {
   "cell_type": "markdown",
   "metadata": {},
   "source": [
    "#### 특정 노드가 삭제되었음을 알 수 있음"
   ]
  },
  {
   "cell_type": "code",
   "execution_count": 27,
   "metadata": {
    "ExecuteTime": {
     "end_time": "2022-06-19T07:39:19.127377Z",
     "start_time": "2022-06-19T07:39:19.114579Z"
    }
   },
   "outputs": [
    {
     "name": "stdout",
     "output_type": "stream",
     "text": [
      "0\n",
      "1\n",
      "2\n",
      "3\n",
      "5\n",
      "6\n",
      "7\n",
      "8\n",
      "9\n"
     ]
    }
   ],
   "source": [
    "linkedlist1.desc()"
   ]
  },
  {
   "cell_type": "code",
   "execution_count": 28,
   "metadata": {
    "ExecuteTime": {
     "end_time": "2022-06-19T07:39:21.504604Z",
     "start_time": "2022-06-19T07:39:21.488375Z"
    }
   },
   "outputs": [],
   "source": [
    "linkedlist1.delete(9)"
   ]
  },
  {
   "cell_type": "code",
   "execution_count": 29,
   "metadata": {
    "ExecuteTime": {
     "end_time": "2022-06-19T07:39:21.996387Z",
     "start_time": "2022-06-19T07:39:21.979955Z"
    }
   },
   "outputs": [
    {
     "name": "stdout",
     "output_type": "stream",
     "text": [
      "0\n",
      "1\n",
      "2\n",
      "3\n",
      "5\n",
      "6\n",
      "7\n",
      "8\n"
     ]
    }
   ],
   "source": [
    "linkedlist1.desc()"
   ]
  },
  {
   "cell_type": "markdown",
   "metadata": {},
   "source": [
    "<div class=\"alert alert-block alert-warning\">\n",
    "<strong><font color=\"blue\" size=\"3em\">연습1: 위 코드에서 노드 데이터가 2인 노드 삭제해보기</font></strong>\n",
    "</div>"
   ]
  },
  {
   "cell_type": "code",
   "execution_count": 33,
   "metadata": {
    "ExecuteTime": {
     "end_time": "2022-06-19T07:48:33.536868Z",
     "start_time": "2022-06-19T07:48:33.528667Z"
    }
   },
   "outputs": [
    {
     "name": "stdout",
     "output_type": "stream",
     "text": [
      "0\n",
      "1\n",
      "2\n",
      "3\n",
      "4\n",
      "5\n",
      "6\n",
      "7\n",
      "8\n",
      "9\n"
     ]
    }
   ],
   "source": [
    "node_mgmt = NodeMgmt(0)\n",
    "for i in range(1,10):\n",
    "    node_mgmt.add(i)\n",
    "node_mgmt.desc()"
   ]
  },
  {
   "cell_type": "code",
   "execution_count": 34,
   "metadata": {
    "ExecuteTime": {
     "end_time": "2022-06-19T07:48:35.707601Z",
     "start_time": "2022-06-19T07:48:35.692269Z"
    }
   },
   "outputs": [
    {
     "name": "stdout",
     "output_type": "stream",
     "text": [
      "0\n",
      "1\n",
      "3\n",
      "4\n",
      "5\n",
      "6\n",
      "7\n",
      "8\n",
      "9\n"
     ]
    }
   ],
   "source": [
    "node_mgmt.delete(2)\n",
    "node_mgmt.desc()"
   ]
  },
  {
   "cell_type": "markdown",
   "metadata": {},
   "source": [
    "<div class=\"alert alert-block alert-warning\">\n",
    "<strong><font color=\"blue\" size=\"3em\">연습2: 위 코드에서 노드 데이터가 특정 숫자인 노드를 찾는 함수를 만들고, 테스트해보기</font></strong><br>\n",
    "테스트: 임의로 1 ~ 9까지 데이터를 링크드 리스트에 넣어보고, 데이터 값이 4인 노드의 데이터 값 출력해보기\n",
    "</div>"
   ]
  },
  {
   "cell_type": "code",
   "execution_count": 35,
   "metadata": {
    "ExecuteTime": {
     "end_time": "2022-06-19T07:49:16.980715Z",
     "start_time": "2022-06-19T07:49:16.949184Z"
    }
   },
   "outputs": [],
   "source": [
    "class Node:\n",
    "    def __init__(self, data):\n",
    "        self.data = data\n",
    "        self.next = None\n",
    "\n",
    "class NodeMgmt:\n",
    "    def __init__(self, data):\n",
    "        self.head = Node(data)\n",
    "    \n",
    "    def add(self, data):\n",
    "        if self.head == '':\n",
    "            self.head = Node(data)\n",
    "        else:\n",
    "            node = self.head\n",
    "            while node.next:\n",
    "                node = node.next\n",
    "            node.next = Node(data)\n",
    "\n",
    "    def desc(self):\n",
    "        node = self.head\n",
    "        while node:\n",
    "            print (node.data)\n",
    "            node = node.next\n",
    "\n",
    "    def delete(self, data):\n",
    "        if self.head == '':\n",
    "            print ('해당 값을 가진 노드가 없습니다.')\n",
    "            return\n",
    "        if self.head.data == data: # 경우의 수1: self.head를 삭제해야할 경우 - self.head를 바꿔줘야 함\n",
    "            temp = self.head # self.head 객체를 삭제하기 위해, 임시로 temp에 담아서 객체를 삭제했음\n",
    "            self.head = self.head.next # 만약 self.head 객체를 삭제하면, 이 코드가 실행이 안되기 때문!\n",
    "            del temp\n",
    "        else:\n",
    "            node = self.head\n",
    "            while node.next: # 경우의 수2: self.head가 아닌 노드를 삭제해야할 경우\n",
    "                if node.next.data == data:\n",
    "                    temp = node.next\n",
    "                    node.next = node.next.next       \n",
    "                    del temp                         \n",
    "                    pass                             \n",
    "                else:\n",
    "                    node = node.next\n",
    "                    \n",
    "    def search_node(self, data):\n",
    "        node = self.head                     # node = head로 지정\n",
    "        while node:\n",
    "            if node.data == data:            # head의 data가 우리가 찾는 data라면\n",
    "                return node                  # node 값을 반환\n",
    "            else:                            # head의 data가 우리가 찾는 data가 아니라면\n",
    "                node = node.next             # node는 다음 node로 지정"
   ]
  },
  {
   "cell_type": "code",
   "execution_count": 36,
   "metadata": {
    "ExecuteTime": {
     "end_time": "2022-06-19T07:49:17.470946Z",
     "start_time": "2022-06-19T07:49:17.454590Z"
    }
   },
   "outputs": [
    {
     "name": "stdout",
     "output_type": "stream",
     "text": [
      "4\n"
     ]
    }
   ],
   "source": [
    "# 테스트\n",
    "node_mgmt = NodeMgmt(0)\n",
    "for data in range(1, 10):\n",
    "    node_mgmt.add(data)\n",
    "\n",
    "node = node_mgmt.search_node(4)\n",
    "print (node.data)"
   ]
  },
  {
   "cell_type": "markdown",
   "metadata": {},
   "source": [
    "### 7. **<span style=\"color: #0000FF\">다양한 링크드 리스트 구조 </span>**\n",
    "* **<span style=\"color: #20B2AA\">더블 링크드 리스트(Doubly linked list)</span>** 기본 구조 \n",
    "  - <u>이중 연결 리스트</u>라고도 함\n",
    "  - **<span style=\"color: red\">장점</span>** : <u>양방향으로 연결</u>되어 있어서 **노드 탐색이 양쪽으로 모두 가능**\n",
    "  <br>\n",
    "<img src=\"https://www.fun-coding.org/00_Images/doublelinkedlist.png\" />\n",
    "(출처: wikipedia, https://en.wikipedia.org/wiki/Linked_list)"
   ]
  },
  {
   "cell_type": "code",
   "execution_count": 38,
   "metadata": {
    "ExecuteTime": {
     "end_time": "2022-06-19T08:07:13.842987Z",
     "start_time": "2022-06-19T08:07:13.818590Z"
    }
   },
   "outputs": [],
   "source": [
    "# 각각의 Node를 저장/생성할 수 있는 class 생성\n",
    "class Node:\n",
    "    def __init__(self, data, prev=None, next=None):\n",
    "        self.prev = prev                             # prev : Node의 이전 주소\n",
    "        self.data = data                             # data : Node의 data\n",
    "        self.next = next                             # next : Node의 다음 주소\n",
    "\n",
    "# Double linked List를 관리할 수 있는 class 생성\n",
    "class NodeMgmt:\n",
    "    def __init__(self, data):\n",
    "        self.head = Node(data)                       # head : NodeMgmt라는 class를 생성할 때, default data를 넣어주면 그 data를 기반으로 하여 최초의 Node가 생성되고, 그 Node가 head가 된다.\n",
    "        self.tail = self.head                        # tail : 처음에 Node가 하나라면, head나 tail이나 해당 Node를 가리키고 있다.\n",
    "\n",
    "    def insert(self, data):\n",
    "        if self.head == None:                       # head가 있는지 보고, 만약 None이면\n",
    "            self.head = Node(data)                   # head에 Node의 data를 생성\n",
    "            self.tail = self.head                    # 하나의 Node 뿐이므로 tail은 head와 동일하게 생성\n",
    "        else:                                       # head가 있다면,\n",
    "            node = self.head                        # head를 node 라는 변수에 지정해놓고\n",
    "            while node.next:                        # 해당 node의 다음이 있다면,\n",
    "                node = node.next                    # 다음 노드로 넘어감 → 마지막 노드에서 멈춤\n",
    "            new = Node(data)                        # 새로운 Node의 데이터를 생성\n",
    "            node.next = new                         # 마지막 노드의 next가 새로운 노드를 가리키게 지정\n",
    "            new.prev = node                         # 새로운 노드의 prev를 기존의 마지막 노드를 가리키게 지정\n",
    "            self.tail = new                         # 맨 마지막 data를 tail로 지정\n",
    "\n",
    "    def desc(self):\n",
    "        node = self.head\n",
    "        while node:\n",
    "            print (node.data)\n",
    "            node = node.next"
   ]
  },
  {
   "cell_type": "code",
   "execution_count": 39,
   "metadata": {
    "ExecuteTime": {
     "end_time": "2022-06-19T08:07:14.102163Z",
     "start_time": "2022-06-19T08:07:14.086623Z"
    }
   },
   "outputs": [
    {
     "name": "stdout",
     "output_type": "stream",
     "text": [
      "0\n",
      "1\n",
      "2\n",
      "3\n",
      "4\n",
      "5\n",
      "6\n",
      "7\n",
      "8\n",
      "9\n"
     ]
    }
   ],
   "source": [
    "double_linked_list = NodeMgmt(0)\n",
    "for data in range(1, 10):\n",
    "    double_linked_list.insert(data)\n",
    "double_linked_list.desc()"
   ]
  },
  {
   "cell_type": "markdown",
   "metadata": {},
   "source": [
    "<div class=\"alert alert-block alert-warning\">\n",
    "<strong><font color=\"blue\" size=\"3em\">연습3: 위 코드에서 노드 데이터가 특정 숫자인 노드 앞에 데이터를 추가하는 함수를 만들고, 테스트해보기</font></strong><br>\n",
    "- 더블 링크드 리스트의 tail 에서부터 뒤로 이동하며, 특정 숫자인 노드를 찾는 방식으로 함수를 구현하기<br>\n",
    "- 테스트: 임의로 0 ~ 9까지 데이터를 링크드 리스트에 넣어보고, 데이터 값이 2인 노드 앞에 1.5 데이터 값을 가진 노드를 추가해보기\n",
    "</div>"
   ]
  },
  {
   "cell_type": "code",
   "execution_count": 40,
   "metadata": {
    "ExecuteTime": {
     "end_time": "2022-06-19T08:11:09.787569Z",
     "start_time": "2022-06-19T08:11:09.750052Z"
    }
   },
   "outputs": [],
   "source": [
    "# 각각의 Node를 저장/생성할 수 있는 class 생성\n",
    "class Node:\n",
    "    def __init__(self, data, prev=None, next=None):\n",
    "        self.prev = prev                             # prev : Node의 이전 주소\n",
    "        self.data = data                             # data : Node의 data\n",
    "        self.next = next                             # next : Node의 다음 주소\n",
    "\n",
    "# Double linked List를 관리할 수 있는 class 생성\n",
    "class NodeMgmt:\n",
    "    def __init__(self, data):\n",
    "        self.head = Node(data)                       # head : NodeMgmt라는 class를 생성할 때, default data를 넣어주면 그 data를 기반으로 하여 최초의 Node가 생성되고, 그 Node가 head가 된다.\n",
    "        self.tail = self.head                        # tail : 처음에 Node가 하나라면, head나 tail이나 해당 Node를 가리키고 있다.\n",
    "\n",
    "    def insert(self, data):\n",
    "        if self.head == None:                       # head가 있는지 보고, 만약 None이면\n",
    "            self.head = Node(data)                   # head에 Node의 data를 생성\n",
    "            self.tail = self.head                    # 하나의 Node 뿐이므로 tail은 head와 동일하게 생성\n",
    "        else:                                       # head가 있다면,\n",
    "            node = self.head                        # head를 node 라는 변수에 지정해놓고\n",
    "            while node.next:                        # 해당 node의 다음이 있다면,\n",
    "                node = node.next                    # 다음 노드로 넘어감 → 마지막 노드에서 멈춤\n",
    "            new = Node(data)                        # 새로운 Node의 데이터를 생성\n",
    "            node.next = new                         # 마지막 노드의 next가 새로운 노드를 가리키게 지정\n",
    "            new.prev = node                         # 새로운 노드의 prev를 기존의 마지막 노드를 가리키게 지정\n",
    "            self.tail = new                         # 맨 마지막 data를 tail로 지정\n",
    "\n",
    "    def desc(self):\n",
    "        node = self.head\n",
    "        while node:\n",
    "            print (node.data)\n",
    "            node = node.next\n",
    "    \n",
    "    def search_from_head(self, data):\n",
    "        if self.head == None:\n",
    "            return False\n",
    "    \n",
    "        node = self.head\n",
    "        while node:\n",
    "            if node.data == data:\n",
    "                return node\n",
    "            else:\n",
    "                node = node.next\n",
    "        return False\n",
    "    \n",
    "    def search_from_tail(self, data):\n",
    "        if self.head == None:\n",
    "            return False\n",
    "    \n",
    "        node = self.tail\n",
    "        while node:\n",
    "            if node.data == data:\n",
    "                return node\n",
    "            else:\n",
    "                node = node.prev\n",
    "        return False\n",
    "    \n",
    "    def insert_before(self, data, before_data):        # data 값을 가진 노드를 before_data 값을 가진 노드 앞에 만들겠다.\n",
    "        if self.head == None:                         # head가 있는지 보고, 만약 None이면\n",
    "            self.head = Node(data)                     # head에 Node의 data를 생성\n",
    "            return True\n",
    "        else:\n",
    "            node = self.tail                           # node를 tail로 지정\n",
    "            while node.data != before_data:           # node의 data가 before_data인지 확인 하고\n",
    "                node = node.prev                       # 해당 node의 prev로 이동\n",
    "                if node == None:                      # 앞의 node가 없다는 것은 data가 없다는 것을 의미\n",
    "                    return False\n",
    "                                                       # while문 종료 : node의 data가 before_data임을 확인\n",
    "            new = Node(data)                           # data 값을 가진 노드를 new라는 변수에 지정\n",
    "            before_new = node.prev                     # before_new는 node의 이전 노드\n",
    "            before_new.next = new                      # before_new의 다음 노드가 new를 가리키게 지정\n",
    "            new.prev = before_new                      # new의 이전 노드가 before_new를 가리키게 지정\n",
    "            new.next = node                            # new의 다음 노드가 node를 가리키게 지정\n",
    "            node.prev = new                            # node의 이전 노드가 new를 가리키게 지정\n",
    "            return True"
   ]
  },
  {
   "cell_type": "code",
   "execution_count": 44,
   "metadata": {
    "ExecuteTime": {
     "end_time": "2022-06-19T08:33:18.168251Z",
     "start_time": "2022-06-19T08:33:18.152206Z"
    },
    "scrolled": false
   },
   "outputs": [
    {
     "name": "stdout",
     "output_type": "stream",
     "text": [
      "0\n",
      "1\n",
      "2\n",
      "3\n",
      "4\n",
      "5\n",
      "6\n",
      "7\n",
      "8\n",
      "9\n"
     ]
    }
   ],
   "source": [
    "double_linked_list = NodeMgmt(0)\n",
    "for data in range(1, 10):\n",
    "    double_linked_list.insert(data)\n",
    "double_linked_list.desc()"
   ]
  },
  {
   "cell_type": "code",
   "execution_count": 45,
   "metadata": {
    "ExecuteTime": {
     "end_time": "2022-06-19T08:33:22.209126Z",
     "start_time": "2022-06-19T08:33:22.192832Z"
    }
   },
   "outputs": [
    {
     "data": {
      "text/plain": [
       "3"
      ]
     },
     "execution_count": 45,
     "metadata": {},
     "output_type": "execute_result"
    }
   ],
   "source": [
    "node_3 = double_linked_list.search_from_head(3)\n",
    "node_3.data"
   ]
  },
  {
   "cell_type": "code",
   "execution_count": 46,
   "metadata": {
    "ExecuteTime": {
     "end_time": "2022-06-19T08:33:23.948579Z",
     "start_time": "2022-06-19T08:33:23.921721Z"
    }
   },
   "outputs": [
    {
     "data": {
      "text/plain": [
       "3"
      ]
     },
     "execution_count": 46,
     "metadata": {},
     "output_type": "execute_result"
    }
   ],
   "source": [
    "node_3 = double_linked_list.search_from_tail(3)\n",
    "node_3.data"
   ]
  },
  {
   "cell_type": "code",
   "execution_count": 47,
   "metadata": {
    "ExecuteTime": {
     "end_time": "2022-06-19T08:33:25.287886Z",
     "start_time": "2022-06-19T08:33:25.272145Z"
    }
   },
   "outputs": [
    {
     "name": "stdout",
     "output_type": "stream",
     "text": [
      "0\n",
      "1\n",
      "1.5\n",
      "2\n",
      "3\n",
      "4\n",
      "5\n",
      "6\n",
      "7\n",
      "8\n",
      "9\n"
     ]
    }
   ],
   "source": [
    "double_linked_list.insert_before(1.5, 2)\n",
    "double_linked_list.desc()"
   ]
  },
  {
   "cell_type": "code",
   "execution_count": 48,
   "metadata": {
    "ExecuteTime": {
     "end_time": "2022-06-19T08:33:47.295090Z",
     "start_time": "2022-06-19T08:33:47.282078Z"
    }
   },
   "outputs": [
    {
     "data": {
      "text/plain": [
       "1.5"
      ]
     },
     "execution_count": 48,
     "metadata": {},
     "output_type": "execute_result"
    }
   ],
   "source": [
    "node_3 = double_linked_list.search_from_tail(1.5)\n",
    "node_3.data"
   ]
  },
  {
   "cell_type": "markdown",
   "metadata": {},
   "source": [
    "<div class=\"alert alert-block alert-warning\">\n",
    "<strong><font color=\"blue\" size=\"3em\">연습4: 위 코드에서 노드 데이터가 특정 숫자인 노드 뒤에 데이터를 추가하는 함수를 만들고, 테스트해보기</font></strong><br>\n",
    "- 더블 링크드 리스트의 head 에서부터 다음으로 이동하며, 특정 숫자인 노드를 찾는 방식으로 함수를 구현하기<br>\n",
    "- 테스트: 임의로 0 ~ 9까지 데이터를 링크드 리스트에 넣어보고, 데이터 값이 1인 노드 다음에 1.7 데이터 값을 가진 노드를 추가해보기\n",
    "</div>"
   ]
  },
  {
   "cell_type": "code",
   "execution_count": null,
   "metadata": {},
   "outputs": [],
   "source": [
    "class Node:\n",
    "    def __init__(self, data, prev=None, next=None):\n",
    "        self.prev = prev\n",
    "        self.data = data\n",
    "        self.next = next\n",
    "\n",
    "class NodeMgmt:\n",
    "    def __init__(self, data):\n",
    "        self.head = Node(data)\n",
    "        self.tail = self.head\n",
    "    \n",
    "    def insert_before(self, data, before_data):\n",
    "        if self.head == None:\n",
    "            self.head = Node(data)\n",
    "            return True            \n",
    "        else:\n",
    "            node = self.tail\n",
    "            while node.data != before_data:\n",
    "                node = node.prev\n",
    "                if node == None:\n",
    "                    return False\n",
    "            new = Node(data)\n",
    "            before_new = node.prev\n",
    "            before_new.next = new\n",
    "            new.next = node\n",
    "            return True\n",
    "\n",
    "    def insert_after(self, data, after_data):\n",
    "        if self.head == None:\n",
    "            self.head = Node(data)\n",
    "            return True            \n",
    "        else:\n",
    "            node = self.head\n",
    "            while node.data != after_data:\n",
    "                node = node.next\n",
    "                if node == None:\n",
    "                    return False\n",
    "            new = Node(data)\n",
    "            after_new = node.next\n",
    "            new.next = after_new\n",
    "            new.prev = node\n",
    "            node.next = new\n",
    "            if new.next == None:\n",
    "                self.tail = new\n",
    "            return True\n",
    "\n",
    "    def insert(self, data):\n",
    "        if self.head == None:\n",
    "            self.head = Node(data)\n",
    "        else:\n",
    "            node = self.head\n",
    "            while node.next:\n",
    "                node = node.next\n",
    "            new = Node(data)\n",
    "            node.next = new\n",
    "            new.prev = node\n",
    "            self.tail = new\n",
    "\n",
    "    def desc(self):\n",
    "        node = self.head\n",
    "        while node:\n",
    "            print (node.data)\n",
    "            node = node.next"
   ]
  },
  {
   "cell_type": "code",
   "execution_count": null,
   "metadata": {},
   "outputs": [],
   "source": [
    "node_mgmt = NodeMgmt(0)\n",
    "for data in range(1, 10):\n",
    "    node_mgmt.insert(data)\n",
    "\n",
    "node_mgmt.desc()\n",
    "\n",
    "node_mgmt.insert_after(1.5, 1)\n",
    "node_mgmt.desc()"
   ]
  }
 ],
 "metadata": {
  "hide_input": false,
  "kernelspec": {
   "display_name": "Python 3 (ipykernel)",
   "language": "python",
   "name": "python3"
  },
  "language_info": {
   "codemirror_mode": {
    "name": "ipython",
    "version": 3
   },
   "file_extension": ".py",
   "mimetype": "text/x-python",
   "name": "python",
   "nbconvert_exporter": "python",
   "pygments_lexer": "ipython3",
   "version": "3.8.13"
  },
  "nbTranslate": {
   "displayLangs": [
    "*"
   ],
   "hotkey": "alt-t",
   "langInMainMenu": true,
   "sourceLang": "en",
   "targetLang": "fr",
   "useGoogleTranslate": true
  },
  "toc": {
   "base_numbering": 1,
   "nav_menu": {},
   "number_sections": true,
   "sideBar": true,
   "skip_h1_title": false,
   "title_cell": "Table of Contents",
   "title_sidebar": "Contents",
   "toc_cell": false,
   "toc_position": {
    "height": "calc(100% - 180px)",
    "left": "10px",
    "top": "150px",
    "width": "304.475px"
   },
   "toc_section_display": true,
   "toc_window_display": true
  }
 },
 "nbformat": 4,
 "nbformat_minor": 1
}
